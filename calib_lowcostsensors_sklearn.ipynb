{
  "nbformat": 4,
  "nbformat_minor": 0,
  "metadata": {
    "colab": {
      "provenance": [],
      "authorship_tag": "ABX9TyNaV82wA1uCSYoPKVID5YsW",
      "include_colab_link": true
    },
    "kernelspec": {
      "name": "python3",
      "display_name": "Python 3"
    },
    "language_info": {
      "name": "python"
    }
  },
  "cells": [
    {
      "cell_type": "markdown",
      "metadata": {
        "id": "view-in-github",
        "colab_type": "text"
      },
      "source": [
        "<a href=\"https://colab.research.google.com/github/MateusMaruzka/lowcostsensors_tensorflow/blob/main/calib_lowcostsensors_sklearn.ipynb\" target=\"_parent\"><img src=\"https://colab.research.google.com/assets/colab-badge.svg\" alt=\"Open In Colab\"/></a>"
      ]
    },
    {
      "cell_type": "code",
      "execution_count": 11,
      "metadata": {
        "colab": {
          "base_uri": "https://localhost:8080/"
        },
        "id": "xA8sF3Z_YgZC",
        "outputId": "1e29912a-d32d-49c7-a29c-70e74165857a"
      },
      "outputs": [
        {
          "output_type": "stream",
          "name": "stdout",
          "text": [
            "running:  3.7.15 (default, Oct 12 2022, 19:14:55) \n",
            "[GCC 7.5.0]\n"
          ]
        }
      ],
      "source": [
        "import numpy as np\n",
        "import seaborn as sns\n",
        "import matplotlib.pyplot as plt\n",
        "import pandas as pd\n",
        "\n",
        "from sklearn.ensemble import RandomForestRegressor\n",
        "\n",
        "from sklearn.model_selection import train_test_split, GridSearchCV, \\\n",
        "                                    validation_curve, cross_val_score, \\\n",
        "                                    cross_validate, \\\n",
        "                                    RepeatedKFold\n",
        "from sys import version\n",
        "print(\"running: \", version)"
      ]
    },
    {
      "cell_type": "code",
      "source": [
        "df = pd.read_csv('dataset.csv')\n",
        "df.set_index('Date/Time', inplace = True)\n",
        "df.dropna(inplace=True)"
      ],
      "metadata": {
        "id": "PWAHD7e_Yw-c"
      },
      "execution_count": 4,
      "outputs": []
    },
    {
      "cell_type": "code",
      "source": [
        "var = 'co'\n",
        "label_ref = var + '_iat'\n",
        "label_envcity = var + '_envcity'\n",
        "\n",
        "Yco = df[label_ref]\n",
        "\n",
        "Xco = df.loc[Yco.index][[label_ref,'temperatura_envcity','umidade_envcity', label_envcity]]\n",
        "\n",
        "X_train, X_test, y_train, y_test = train_test_split(Xco, Yco, train_size=0.5)\n",
        "rkf = RepeatedKFold(n_splits = 5, n_repeats = 1, random_state = 0)"
      ],
      "metadata": {
        "id": "mgel2TX2aCRG"
      },
      "execution_count": 9,
      "outputs": []
    },
    {
      "cell_type": "code",
      "source": [
        "param_grid = {\"n_estimators\": [10, 15],\n",
        "              \"max_depth\": [32, 64, 128],\n",
        "              'criterion': ['squared_error', 'absolute_error']}\n",
        "\n",
        "gs = GridSearchCV(RandomForestRegressor(), param_grid=param_grid, n_jobs=-1, verbose = 3,\\\n",
        "                  return_train_score=True, cv = rkf)\n",
        "gs.fit(X_train,y_train)"
      ],
      "metadata": {
        "colab": {
          "base_uri": "https://localhost:8080/"
        },
        "id": "y0qdgnX2aW9R",
        "outputId": "0481470e-0994-46d8-9f77-ca8e292972d6"
      },
      "execution_count": 13,
      "outputs": [
        {
          "output_type": "stream",
          "name": "stdout",
          "text": [
            "Fitting 5 folds for each of 12 candidates, totalling 60 fits\n"
          ]
        },
        {
          "output_type": "execute_result",
          "data": {
            "text/plain": [
              "GridSearchCV(cv=RepeatedKFold(n_repeats=1, n_splits=5, random_state=0),\n",
              "             estimator=RandomForestRegressor(), n_jobs=-1,\n",
              "             param_grid={'criterion': ['squared_error', 'absolute_error'],\n",
              "                         'max_depth': [32, 64, 128], 'n_estimators': [10, 15]},\n",
              "             return_train_score=True, verbose=3)"
            ]
          },
          "metadata": {},
          "execution_count": 13
        }
      ]
    },
    {
      "cell_type": "code",
      "source": [
        "  print(\"Train Score: \", gs.score(X_train, y_train))\n",
        "  print(\"Test Score: \", gs.score(X_test, y_test))"
      ],
      "metadata": {
        "colab": {
          "base_uri": "https://localhost:8080/"
        },
        "id": "dirUGLGUcGvR",
        "outputId": "795ba382-c010-4db7-ab1c-4460bc6acbc4"
      },
      "execution_count": 14,
      "outputs": [
        {
          "output_type": "stream",
          "name": "stdout",
          "text": [
            "Train Score:  0.999484795135447\n",
            "Test Score:  0.9928047295089557\n"
          ]
        }
      ]
    }
  ]
}