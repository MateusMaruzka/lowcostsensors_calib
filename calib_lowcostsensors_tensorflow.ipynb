{
  "cells": [
    {
      "cell_type": "markdown",
      "metadata": {
        "id": "view-in-github",
        "colab_type": "text"
      },
      "source": [
        "<a href=\"https://colab.research.google.com/github/MateusMaruzka/lowcostsensors_calib/blob/main/calib_lowcostsensors_tensorflow.ipynb\" target=\"_parent\"><img src=\"https://colab.research.google.com/assets/colab-badge.svg\" alt=\"Open In Colab\"/></a>"
      ]
    },
    {
      "cell_type": "markdown",
      "metadata": {
        "id": "lIxy14lmM_zS"
      },
      "source": [
        "Instalando as dependências:\n",
        "\n",
        "\n",
        "1.   Tensorflow Decision Forests\n",
        "\n"
      ]
    },
    {
      "cell_type": "code",
      "source": [
        "#!gcloud auth login\n",
        "#gsutil -m cp -r \"gs://cloud-ai-platform-6a74c02d-879c-498f-af7b-eb05350aaed7/model-6997608658515263488\" ."
      ],
      "metadata": {
        "id": "Pl6LRj4hZSnW"
      },
      "execution_count": null,
      "outputs": []
    },
    {
      "cell_type": "code",
      "source": [
        "from google.colab import drive\n",
        "drive.mount('/content/drive')"
      ],
      "metadata": {
        "id": "nLo0S62ncH0P"
      },
      "execution_count": null,
      "outputs": []
    },
    {
      "cell_type": "code",
      "execution_count": null,
      "metadata": {
        "colab": {
          "base_uri": "https://localhost:8080/"
        },
        "id": "qfITmNL-M5_d",
        "outputId": "a1d31621-ba2c-47dc-8857-ca371a639fbd"
      },
      "outputs": [
        {
          "output_type": "stream",
          "name": "stdout",
          "text": [
            "Looking in indexes: https://pypi.org/simple, https://us-python.pkg.dev/colab-wheels/public/simple/\n",
            "Requirement already satisfied: tensorflow_decision_forests in /usr/local/lib/python3.8/dist-packages (1.1.0)\n",
            "Requirement already satisfied: pandas in /usr/local/lib/python3.8/dist-packages (from tensorflow_decision_forests) (1.3.5)\n",
            "Requirement already satisfied: numpy in /usr/local/lib/python3.8/dist-packages (from tensorflow_decision_forests) (1.21.6)\n",
            "Requirement already satisfied: tensorflow~=2.11.0 in /usr/local/lib/python3.8/dist-packages (from tensorflow_decision_forests) (2.11.0)\n",
            "Requirement already satisfied: wheel in /usr/local/lib/python3.8/dist-packages (from tensorflow_decision_forests) (0.38.4)\n",
            "Requirement already satisfied: six in /usr/local/lib/python3.8/dist-packages (from tensorflow_decision_forests) (1.15.0)\n",
            "Requirement already satisfied: wurlitzer in /usr/local/lib/python3.8/dist-packages (from tensorflow_decision_forests) (3.0.3)\n",
            "Requirement already satisfied: absl-py in /usr/local/lib/python3.8/dist-packages (from tensorflow_decision_forests) (1.3.0)\n",
            "Requirement already satisfied: setuptools in /usr/local/lib/python3.8/dist-packages (from tensorflow~=2.11.0->tensorflow_decision_forests) (57.4.0)\n",
            "Requirement already satisfied: termcolor>=1.1.0 in /usr/local/lib/python3.8/dist-packages (from tensorflow~=2.11.0->tensorflow_decision_forests) (2.1.1)\n",
            "Requirement already satisfied: libclang>=13.0.0 in /usr/local/lib/python3.8/dist-packages (from tensorflow~=2.11.0->tensorflow_decision_forests) (14.0.6)\n",
            "Requirement already satisfied: typing-extensions>=3.6.6 in /usr/local/lib/python3.8/dist-packages (from tensorflow~=2.11.0->tensorflow_decision_forests) (4.1.1)\n",
            "Requirement already satisfied: wrapt>=1.11.0 in /usr/local/lib/python3.8/dist-packages (from tensorflow~=2.11.0->tensorflow_decision_forests) (1.14.1)\n",
            "Requirement already satisfied: tensorboard<2.12,>=2.11 in /usr/local/lib/python3.8/dist-packages (from tensorflow~=2.11.0->tensorflow_decision_forests) (2.11.0)\n",
            "Requirement already satisfied: protobuf<3.20,>=3.9.2 in /usr/local/lib/python3.8/dist-packages (from tensorflow~=2.11.0->tensorflow_decision_forests) (3.19.6)\n",
            "Requirement already satisfied: astunparse>=1.6.0 in /usr/local/lib/python3.8/dist-packages (from tensorflow~=2.11.0->tensorflow_decision_forests) (1.6.3)\n",
            "Requirement already satisfied: flatbuffers>=2.0 in /usr/local/lib/python3.8/dist-packages (from tensorflow~=2.11.0->tensorflow_decision_forests) (22.11.23)\n",
            "Requirement already satisfied: gast<=0.4.0,>=0.2.1 in /usr/local/lib/python3.8/dist-packages (from tensorflow~=2.11.0->tensorflow_decision_forests) (0.4.0)\n",
            "Requirement already satisfied: tensorflow-io-gcs-filesystem>=0.23.1 in /usr/local/lib/python3.8/dist-packages (from tensorflow~=2.11.0->tensorflow_decision_forests) (0.28.0)\n",
            "Requirement already satisfied: tensorflow-estimator<2.12,>=2.11.0 in /usr/local/lib/python3.8/dist-packages (from tensorflow~=2.11.0->tensorflow_decision_forests) (2.11.0)\n",
            "Requirement already satisfied: keras<2.12,>=2.11.0 in /usr/local/lib/python3.8/dist-packages (from tensorflow~=2.11.0->tensorflow_decision_forests) (2.11.0)\n",
            "Requirement already satisfied: opt-einsum>=2.3.2 in /usr/local/lib/python3.8/dist-packages (from tensorflow~=2.11.0->tensorflow_decision_forests) (3.3.0)\n",
            "Requirement already satisfied: packaging in /usr/local/lib/python3.8/dist-packages (from tensorflow~=2.11.0->tensorflow_decision_forests) (21.3)\n",
            "Requirement already satisfied: grpcio<2.0,>=1.24.3 in /usr/local/lib/python3.8/dist-packages (from tensorflow~=2.11.0->tensorflow_decision_forests) (1.50.0)\n",
            "Requirement already satisfied: h5py>=2.9.0 in /usr/local/lib/python3.8/dist-packages (from tensorflow~=2.11.0->tensorflow_decision_forests) (3.1.0)\n",
            "Requirement already satisfied: google-pasta>=0.1.1 in /usr/local/lib/python3.8/dist-packages (from tensorflow~=2.11.0->tensorflow_decision_forests) (0.2.0)\n",
            "Requirement already satisfied: google-auth<3,>=1.6.3 in /usr/local/lib/python3.8/dist-packages (from tensorboard<2.12,>=2.11->tensorflow~=2.11.0->tensorflow_decision_forests) (2.14.1)\n",
            "Requirement already satisfied: werkzeug>=1.0.1 in /usr/local/lib/python3.8/dist-packages (from tensorboard<2.12,>=2.11->tensorflow~=2.11.0->tensorflow_decision_forests) (1.0.1)\n",
            "Requirement already satisfied: tensorboard-data-server<0.7.0,>=0.6.0 in /usr/local/lib/python3.8/dist-packages (from tensorboard<2.12,>=2.11->tensorflow~=2.11.0->tensorflow_decision_forests) (0.6.1)\n",
            "Requirement already satisfied: markdown>=2.6.8 in /usr/local/lib/python3.8/dist-packages (from tensorboard<2.12,>=2.11->tensorflow~=2.11.0->tensorflow_decision_forests) (3.4.1)\n",
            "Requirement already satisfied: google-auth-oauthlib<0.5,>=0.4.1 in /usr/local/lib/python3.8/dist-packages (from tensorboard<2.12,>=2.11->tensorflow~=2.11.0->tensorflow_decision_forests) (0.4.6)\n",
            "Requirement already satisfied: tensorboard-plugin-wit>=1.6.0 in /usr/local/lib/python3.8/dist-packages (from tensorboard<2.12,>=2.11->tensorflow~=2.11.0->tensorflow_decision_forests) (1.8.1)\n",
            "Requirement already satisfied: requests<3,>=2.21.0 in /usr/local/lib/python3.8/dist-packages (from tensorboard<2.12,>=2.11->tensorflow~=2.11.0->tensorflow_decision_forests) (2.23.0)\n",
            "Requirement already satisfied: rsa<5,>=3.1.4 in /usr/local/lib/python3.8/dist-packages (from google-auth<3,>=1.6.3->tensorboard<2.12,>=2.11->tensorflow~=2.11.0->tensorflow_decision_forests) (4.9)\n",
            "Requirement already satisfied: pyasn1-modules>=0.2.1 in /usr/local/lib/python3.8/dist-packages (from google-auth<3,>=1.6.3->tensorboard<2.12,>=2.11->tensorflow~=2.11.0->tensorflow_decision_forests) (0.2.8)\n",
            "Requirement already satisfied: cachetools<6.0,>=2.0.0 in /usr/local/lib/python3.8/dist-packages (from google-auth<3,>=1.6.3->tensorboard<2.12,>=2.11->tensorflow~=2.11.0->tensorflow_decision_forests) (5.2.0)\n",
            "Requirement already satisfied: requests-oauthlib>=0.7.0 in /usr/local/lib/python3.8/dist-packages (from google-auth-oauthlib<0.5,>=0.4.1->tensorboard<2.12,>=2.11->tensorflow~=2.11.0->tensorflow_decision_forests) (1.3.1)\n",
            "Requirement already satisfied: importlib-metadata>=4.4 in /usr/local/lib/python3.8/dist-packages (from markdown>=2.6.8->tensorboard<2.12,>=2.11->tensorflow~=2.11.0->tensorflow_decision_forests) (4.13.0)\n",
            "Requirement already satisfied: zipp>=0.5 in /usr/local/lib/python3.8/dist-packages (from importlib-metadata>=4.4->markdown>=2.6.8->tensorboard<2.12,>=2.11->tensorflow~=2.11.0->tensorflow_decision_forests) (3.10.0)\n",
            "Requirement already satisfied: pyasn1<0.5.0,>=0.4.6 in /usr/local/lib/python3.8/dist-packages (from pyasn1-modules>=0.2.1->google-auth<3,>=1.6.3->tensorboard<2.12,>=2.11->tensorflow~=2.11.0->tensorflow_decision_forests) (0.4.8)\n",
            "Requirement already satisfied: urllib3!=1.25.0,!=1.25.1,<1.26,>=1.21.1 in /usr/local/lib/python3.8/dist-packages (from requests<3,>=2.21.0->tensorboard<2.12,>=2.11->tensorflow~=2.11.0->tensorflow_decision_forests) (1.24.3)\n",
            "Requirement already satisfied: chardet<4,>=3.0.2 in /usr/local/lib/python3.8/dist-packages (from requests<3,>=2.21.0->tensorboard<2.12,>=2.11->tensorflow~=2.11.0->tensorflow_decision_forests) (3.0.4)\n",
            "Requirement already satisfied: certifi>=2017.4.17 in /usr/local/lib/python3.8/dist-packages (from requests<3,>=2.21.0->tensorboard<2.12,>=2.11->tensorflow~=2.11.0->tensorflow_decision_forests) (2022.9.24)\n",
            "Requirement already satisfied: idna<3,>=2.5 in /usr/local/lib/python3.8/dist-packages (from requests<3,>=2.21.0->tensorboard<2.12,>=2.11->tensorflow~=2.11.0->tensorflow_decision_forests) (2.10)\n",
            "Requirement already satisfied: oauthlib>=3.0.0 in /usr/local/lib/python3.8/dist-packages (from requests-oauthlib>=0.7.0->google-auth-oauthlib<0.5,>=0.4.1->tensorboard<2.12,>=2.11->tensorflow~=2.11.0->tensorflow_decision_forests) (3.2.2)\n",
            "Requirement already satisfied: pyparsing!=3.0.5,>=2.0.2 in /usr/local/lib/python3.8/dist-packages (from packaging->tensorflow~=2.11.0->tensorflow_decision_forests) (3.0.9)\n",
            "Requirement already satisfied: pytz>=2017.3 in /usr/local/lib/python3.8/dist-packages (from pandas->tensorflow_decision_forests) (2022.6)\n",
            "Requirement already satisfied: python-dateutil>=2.7.3 in /usr/local/lib/python3.8/dist-packages (from pandas->tensorflow_decision_forests) (2.8.2)\n"
          ]
        }
      ],
      "source": [
        "!pip install tensorflow_decision_forests"
      ]
    },
    {
      "cell_type": "code",
      "execution_count": null,
      "metadata": {
        "colab": {
          "base_uri": "https://localhost:8080/"
        },
        "id": "hxWMuqpuMUor",
        "outputId": "97221c5e-aad9-446f-b383-f9c6ce398eb1"
      },
      "outputs": [
        {
          "output_type": "stream",
          "name": "stdout",
          "text": [
            "running:  3.8.15 (default, Oct 12 2022, 19:14:39) \n",
            "[GCC 7.5.0]\n",
            "--2022-12-05 22:33:38--  https://raw.githubusercontent.com/MateusMaruzka/lowcostsensors_calib/main/dataset.csv\n",
            "Resolving raw.githubusercontent.com (raw.githubusercontent.com)... 185.199.110.133, 185.199.108.133, 185.199.109.133, ...\n",
            "Connecting to raw.githubusercontent.com (raw.githubusercontent.com)|185.199.110.133|:443... connected.\n",
            "HTTP request sent, awaiting response... 200 OK\n",
            "Length: 1024137 (1000K) [text/plain]\n",
            "Saving to: ‘dataset.csv.3’\n",
            "\n",
            "dataset.csv.3       100%[===================>]   1000K  --.-KB/s    in 0.06s   \n",
            "\n",
            "2022-12-05 22:33:38 (16.3 MB/s) - ‘dataset.csv.3’ saved [1024137/1024137]\n",
            "\n",
            "--2022-12-05 22:33:39--  https://raw.githubusercontent.com/MateusMaruzka/lowcostsensors_calib/main/min_ds_gm5000_envcity.csv\n",
            "Resolving raw.githubusercontent.com (raw.githubusercontent.com)... 185.199.108.133, 185.199.109.133, 185.199.111.133, ...\n",
            "Connecting to raw.githubusercontent.com (raw.githubusercontent.com)|185.199.108.133|:443... connected.\n",
            "HTTP request sent, awaiting response... 200 OK\n",
            "Length: 11933765 (11M) [text/plain]\n",
            "Saving to: ‘min_ds_gm5000_envcity.csv.2’\n",
            "\n",
            "min_ds_gm5000_envci 100%[===================>]  11.38M  --.-KB/s    in 0.1s    \n",
            "\n",
            "2022-12-05 22:33:39 (93.6 MB/s) - ‘min_ds_gm5000_envcity.csv.2’ saved [11933765/11933765]\n",
            "\n"
          ]
        }
      ],
      "source": [
        "import tensorflow as tf\n",
        "import tensorflow_decision_forests as tfdf\n",
        "import pandas as pd\n",
        "import numpy as np\n",
        "import matplotlib.pyplot as plt\n",
        "import seaborn as sns\n",
        "from sklearn.model_selection import train_test_split, GridSearchCV, \\\n",
        "                                    validation_curve, cross_val_score, \\\n",
        "                                    cross_validate, \\\n",
        "                                    RepeatedKFold\n",
        "from sys import version\n",
        "print(\"running: \", version)\n",
        "\n",
        "# Downloading the dataset\n",
        "!wget https://raw.githubusercontent.com/MateusMaruzka/lowcostsensors_calib/main/dataset.csv\n",
        "!wget https://raw.githubusercontent.com/MateusMaruzka/lowcostsensors_calib/main/min_ds_gm5000_envcity.csv"
      ]
    },
    {
      "cell_type": "code",
      "execution_count": null,
      "metadata": {
        "id": "mvovnxtLORLt"
      },
      "outputs": [],
      "source": [
        "df = pd.read_csv('min_ds_gm5000_envcity.csv')\n",
        "df.set_index('Unnamed: 0', inplace = True)\n",
        "df.dropna(inplace=True)\n",
        "idx = df['temperatura_envcity'] > 100\n",
        "df['temperatura_envcity'][idx] = 100\n",
        "idx = df['umidade_envcity'] > 100\n",
        "df['umidade_envcity'][idx] = 100"
      ]
    },
    {
      "cell_type": "markdown",
      "metadata": {
        "id": "YvuQuFO11uyW"
      },
      "source": [
        "### Tukey's rule for outliers (IQR rule)\n",
        "\n",
        "1. IQR =  Q3 - Q1\n",
        "2. upper limit = Q3 + 1.5*IQR\n",
        "3. lower limit = Q1 - 1.5*IQR"
      ]
    },
    {
      "cell_type": "code",
      "execution_count": null,
      "metadata": {
        "colab": {
          "base_uri": "https://localhost:8080/",
          "height": 491
        },
        "id": "ZndC53mf0gab",
        "outputId": "f1ce8892-e55e-4735-ffb8-1f2ef44d6d04"
      },
      "outputs": [
        {
          "output_type": "display_data",
          "data": {
            "text/plain": [
              "<Figure size 792x360 with 2 Axes>"
            ],
            "image/png": "[encoded data removed]"
          },
          "metadata": {
            "needs_background": "light"
          }
        },
        {
          "output_type": "execute_result",
          "data": {
            "text/plain": [
              "count    83682.000000\n",
              "mean       632.098552\n",
              "std        866.107163\n",
              "min     -15160.296000\n",
              "25%         65.812000\n",
              "50%        178.875000\n",
              "75%       1175.235500\n",
              "max       6901.551000\n",
              "Name: co_envcity, dtype: float64"
            ]
          },
          "metadata": {},
          "execution_count": 53
        }
      ],
      "source": [
        "l = 'co_envcity'\n",
        "ref_l = 'co_iat'\n",
        "\n",
        "def quantiles(df):\n",
        "  Q1 = df.quantile(0.25)\n",
        "  Q3 = df.quantile(0.75)\n",
        "  IQR = Q3 - Q1\n",
        "  lower_lim = Q1 - 0.5*IQR\n",
        "  upper_lim = Q3 + 0.5*IQR\n",
        "  return Q1, Q3, lower_lim, upper_lim, IQR\n",
        "\n",
        "def boxplot_histplot(data):\n",
        "  fig, ax = plt.subplots(1, 2, figsize = (11,5))\n",
        "  sns.boxplot(y = data, ax = ax[0])\n",
        "  sns.histplot(data, ax = ax[1], bins = 15)\n",
        "  plt.show()\n",
        "\n",
        "boxplot_histplot(df[l])\n",
        "df[l].describe()"
      ]
    },
    {
      "cell_type": "code",
      "execution_count": null,
      "metadata": {
        "colab": {
          "base_uri": "https://localhost:8080/"
        },
        "id": "3I5AfWn22w2G",
        "outputId": "5243c8c1-f85c-4ab8-a82f-174a3ed58097"
      },
      "outputs": [
        {
          "output_type": "stream",
          "name": "stdout",
          "text": [
            "First quantile = 65.812\n",
            "Third quantile = 1175.2355\n",
            "IQR = 1109.4235\n",
            "Lower limit = -488.89975000000004\n",
            "upper limit = 1729.9472500000002\n"
          ]
        }
      ],
      "source": [
        "Q1, Q3, lower_lim, upper_lim, IQR = quantiles(df[l])\n",
        "print(f'First quantile = {Q1}')\n",
        "print(f'Third quantile = {Q3}')\n",
        "print(f'IQR = {IQR}')\n",
        "print(f'Lower limit = {lower_lim}')\n",
        "print(f'upper limit = {upper_lim}')"
      ]
    },
    {
      "cell_type": "code",
      "execution_count": null,
      "metadata": {
        "colab": {
          "base_uri": "https://localhost:8080/"
        },
        "id": "MR3dnMip3fB7",
        "outputId": "a28f1f9e-1baf-4b18-8f24-5c1f374bca49"
      },
      "outputs": [
        {
          "output_type": "stream",
          "name": "stdout",
          "text": [
            "11535\n",
            "Outliers -> 13.784326378432638 %\n"
          ]
        }
      ],
      "source": [
        "outliers = (df[l] < lower_lim) | (df[l] > upper_lim)\n",
        "print(len(df[l][outliers]))\n",
        "print(f'Outliers -> {len(df[l][outliers])*100 / len(df[l])} %')"
      ]
    },
    {
      "cell_type": "code",
      "execution_count": null,
      "metadata": {
        "colab": {
          "base_uri": "https://localhost:8080/",
          "height": 335
        },
        "id": "vw3zPiUDBAPG",
        "outputId": "ccfbdd57-06dc-4cb3-b500-6c1114403d12"
      },
      "outputs": [
        {
          "output_type": "display_data",
          "data": {
            "text/plain": [
              "<Figure size 792x360 with 2 Axes>"
            ],
            "image/png": "[encoded data removed]"
          },
          "metadata": {
            "needs_background": "light"
          }
        }
      ],
      "source": [
        "#  Dropping outliers\n",
        "# Y = df[l][~outliers] # Referência\n",
        "# X = df[ref_l][~outliers]\n",
        "\n",
        "boxplot_histplot(df[l][~outliers])\n",
        "\n",
        "# Modifying outliers by winsorize method\n",
        "# from scipy.stats.mstats import winsorize\n",
        "\n",
        "# df_winsorize = winsorize(df[l], (0.01, 0.02))\n",
        "# boxplot_histplot(df_winsorize)\n",
        "\n",
        "# # Log transformation: reduces the skewness of data and tries to make it normal\n",
        "\n",
        "# df_log = np.log(df[l])\n",
        "# boxplot_histplot(df_log)"
      ]
    },
    {
      "cell_type": "code",
      "execution_count": null,
      "metadata": {
        "colab": {
          "base_uri": "https://localhost:8080/",
          "height": 1000
        },
        "id": "2V-qne1jhkyZ",
        "outputId": "c78ec692-bd28-40a7-afeb-6b95685c1860"
      },
      "outputs": [
        {
          "output_type": "stream",
          "name": "stdout",
          "text": [
            "11535\n",
            "Outliers:  co\n",
            "11535\n",
            "Outliers -> 13.784326378432638 %\n"
          ]
        },
        {
          "output_type": "display_data",
          "data": {
            "text/plain": [
              "<Figure size 1080x288 with 4 Axes>"
            ],
            "image/png": "[encoded data removed]"
          },
          "metadata": {
            "needs_background": "light"
          }
        },
        {
          "output_type": "stream",
          "name": "stdout",
          "text": [
            "11287\n",
            "Outliers:  h2s\n",
            "11287\n",
            "Outliers -> 13.487966348796634 %\n"
          ]
        },
        {
          "output_type": "display_data",
          "data": {
            "text/plain": [
              "<Figure size 1080x288 with 4 Axes>"
            ],
            "image/png": "[encoded data removed]"
          },
          "metadata": {
            "needs_background": "light"
          }
        },
        {
          "output_type": "stream",
          "name": "stdout",
          "text": [
            "4101\n",
            "Outliers:  no2\n",
            "4101\n",
            "Outliers -> 4.900695490069549 %\n"
          ]
        },
        {
          "output_type": "display_data",
          "data": {
            "text/plain": [
              "<Figure size 1080x288 with 4 Axes>"
            ],
            "image/png": "[encoded data removed]"
          },
          "metadata": {
            "needs_background": "light"
          }
        },
        {
          "output_type": "stream",
          "name": "stdout",
          "text": [
            "18217\n",
            "Outliers:  so2\n",
            "18217\n",
            "Outliers -> 21.769317176931718 %\n"
          ]
        },
        {
          "output_type": "display_data",
          "data": {
            "text/plain": [
              "<Figure size 1080x288 with 4 Axes>"
            ],
            "image/png": "[encoded data removed]"
          },
          "metadata": {
            "needs_background": "light"
          }
        },
        {
          "output_type": "stream",
          "name": "stdout",
          "text": [
            "506\n",
            "Outliers:  nh3\n",
            "506\n",
            "Outliers -> 0.604670060467006 %\n"
          ]
        },
        {
          "output_type": "display_data",
          "data": {
            "text/plain": [
              "<Figure size 1080x288 with 4 Axes>"
            ],
            "image/png": "[encoded data removed]"
          },
          "metadata": {
            "needs_background": "light"
          }
        },
        {
          "output_type": "stream",
          "name": "stdout",
          "text": [
            "25355\n",
            "Outliers:  o3\n",
            "25355\n",
            "Outliers -> 30.2992280299228 %\n"
          ]
        },
        {
          "output_type": "display_data",
          "data": {
            "text/plain": [
              "<Figure size 1080x288 with 4 Axes>"
            ],
            "image/png": "[encoded data removed]"
          },
          "metadata": {
            "needs_background": "light"
          }
        },
        {
          "output_type": "stream",
          "name": "stdout",
          "text": [
            "{'co': 13.784326378432638, 'h2s': 13.487966348796634, 'no2': 4.900695490069549, 'so2': 21.769317176931718, 'nh3': 0.604670060467006, 'o3': 30.2992280299228}\n"
          ]
        }
      ],
      "source": [
        "def outliers_df(df, method = 'drop'): \n",
        "  \"\"\"\n",
        "  Gera um boxplot pra cada variável no df em relação a referência\n",
        "  method: 'drop', 'winsorize' e 'log'\n",
        "  \"\"\"\n",
        "  label = ['co', 'h2s', 'no2', 'so2', 'nh3', 'o3']\n",
        "  res = {}\n",
        "  for l in label:\n",
        "\n",
        "    data = df[l + '_envcity']\n",
        "    \n",
        "    Q1, Q3, low, up, IQR = quantiles(data)\n",
        "    outliers = (data < low) | (data > up)\n",
        "    print(np.sum(outliers))\n",
        "    print('Outliers: ', l)\n",
        "    print(len(data[outliers]))\n",
        "    outliers_num = len(data[outliers])*100 / len(data)\n",
        "    print(f'Outliers -> {outliers_num} %')\n",
        "\n",
        "    res[l] =  outliers_num\n",
        "\n",
        "    fig, ax = plt.subplots(1, 4, figsize = (15,4))\n",
        "\n",
        "    sns.boxplot(y = data, ax = ax[0], whis=1.5)\n",
        "    # ax[0].boxplot(data)\n",
        "    sns.histplot(data, ax = ax[1], bins = 15)\n",
        "\n",
        "    if method == 'drop':\n",
        "      sns.boxplot(y = data[~outliers], ax = ax[2],  whis=1.5)\n",
        "      sns.histplot(data[~outliers], ax = ax[3], bins = 15)\n",
        "    elif method == 'winsorize':\n",
        "      sns.boxplot(y = winsorize(data, (0.01, 0.02)), ax = ax[2])\n",
        "      sns.histplot(winsorize(data, (0.01, 0.02)), ax = ax[3], bins = 15)\n",
        "    elif method == 'log':\n",
        "      sns.boxplot(y = np.log(data), ax = ax[2])\n",
        "      sns.histplot(np.log(data), ax = ax[3], bins = 15)\n",
        "\n",
        "    plt.tight_layout()\n",
        "    plt.show()\n",
        "\n",
        "  return res\n",
        "\n",
        "print(outliers_df(df, 'drop'))\n",
        "# df.describe()"
      ]
    },
    {
      "cell_type": "code",
      "execution_count": null,
      "metadata": {
        "id": "6wY0hZ8jEC6n"
      },
      "outputs": [],
      "source": [
        "# Split the dataset into a training and a testing dataset.\n",
        "\n",
        "def split_dataset(dataset, test_ratio=0.30):\n",
        "  \"\"\"Splits a panda dataframe in two.\"\"\"\n",
        "  test_indices = np.random.rand(len(dataset)) < test_ratio\n",
        "  return dataset[~test_indices], dataset[test_indices]\n"
      ]
    },
    {
      "cell_type": "code",
      "execution_count": null,
      "metadata": {
        "colab": {
          "base_uri": "https://localhost:8080/"
        },
        "id": "6_ORlAnSO8zK",
        "outputId": "69737b77-379e-47d6-ddb4-90f8581905f6"
      },
      "outputs": [
        {
          "output_type": "stream",
          "name": "stdout",
          "text": [
            "58471 examples in training, 25211 examples for testing.\n"
          ]
        }
      ],
      "source": [
        "from scipy.stats.mstats_basic import winsorize\n",
        "label = 'co_thermo'\n",
        "label_envcity = 'co_envcity'\n",
        "\n",
        "# Outliers\n",
        "# Q1, Q3, lower_lim, upper_lim, IQR = quantiles(df[l])\n",
        "# outliers = (df[label_envcity] < lower_lim) | (df[label_envcity] > upper_lim)\n",
        "Yco = df[label]\n",
        "\n",
        "Xco = df.loc[Yco.index][[label,'temperatura_envcity','umidade_envcity', label_envcity]]\n",
        "Xco[label_envcity] = winsorize(Xco[label_envcity])\n",
        "\n",
        "train_ds_pd, test_ds_pd = split_dataset(Xco)\n",
        "print(\"{} examples in training, {} examples for testing.\".format(len(train_ds_pd), len(test_ds_pd)))\n",
        "\n",
        "train_ds = tfdf.keras.pd_dataframe_to_tf_dataset(train_ds_pd, label=label, task=tfdf.keras.Task.REGRESSION)\n",
        "test_ds = tfdf.keras.pd_dataframe_to_tf_dataset(test_ds_pd, label=label, task=tfdf.keras.Task.REGRESSION)\n"
      ]
    },
    {
      "cell_type": "code",
      "execution_count": null,
      "metadata": {
        "colab": {
          "base_uri": "https://localhost:8080/"
        },
        "id": "fzjg-TX8TXRS",
        "outputId": "e9f8349d-850d-4a64-9406-b474ed7ece73"
      },
      "outputs": [
        {
          "output_type": "stream",
          "name": "stderr",
          "text": [
            "WARNING:tensorflow:5 out of the last 5 calls to <function CoreModel._consumes_training_examples_until_eof at 0x7f82456cb9d0> triggered tf.function retracing. Tracing is expensive and the excessive number of tracings could be due to (1) creating @tf.function repeatedly in a loop, (2) passing tensors with different shapes, (3) passing Python objects instead of tensors. For (1), please define your @tf.function outside of the loop. For (2), @tf.function has reduce_retracing=True option that can avoid unnecessary retracing. For (3), please refer to https://www.tensorflow.org/guide/function#controlling_retracing and https://www.tensorflow.org/api_docs/python/tf/function for  more details.\n"
          ]
        },
        {
          "output_type": "execute_result",
          "data": {
            "text/plain": [
              "<keras.callbacks.History at 0x7f822f36cc40>"
            ]
          },
          "metadata": {},
          "execution_count": 64
        }
      ],
      "source": [
        "# Train a Random Forest model.\n",
        "model = tfdf.keras.RandomForestModel(task=tfdf.keras.Task.REGRESSION, verbose=0)\n",
        "# model.fit(x=X_train, y=y_train)\n",
        "model.fit(train_ds)"
      ]
    },
    {
      "cell_type": "code",
      "execution_count": null,
      "metadata": {
        "colab": {
          "base_uri": "https://localhost:8080/"
        },
        "id": "VJn15bRmT6zl",
        "outputId": "34bfde0c-0283-4d1d-fd23-f91f1769497f"
      },
      "outputs": [
        {
          "output_type": "stream",
          "name": "stdout",
          "text": [
            "Model: \"random_forest_model_4\"\n",
            "_________________________________________________________________\n",
            " Layer (type)                Output Shape              Param #   \n",
            "=================================================================\n",
            "=================================================================\n",
            "Total params: 1\n",
            "Trainable params: 0\n",
            "Non-trainable params: 1\n",
            "_________________________________________________________________\n",
            "Type: \"RANDOM_FOREST\"\n",
            "Task: REGRESSION\n",
            "Label: \"__LABEL\"\n",
            "\n",
            "Input Features (3):\n",
            "\tco_envcity\n",
            "\ttemperatura_envcity\n",
            "\tumidade_envcity\n",
            "\n",
            "No weights\n",
            "\n",
            "Variable Importance: MEAN_MIN_DEPTH:\n",
            "    1.             \"__LABEL\" 13.485551 ################\n",
            "    2.     \"umidade_envcity\"  1.898539 #\n",
            "    3.          \"co_envcity\"  1.449937 \n",
            "    4. \"temperatura_envcity\"  0.653477 \n",
            "\n",
            "Variable Importance: NUM_AS_ROOT:\n",
            "    1. \"temperatura_envcity\" 199.000000 ################\n",
            "    2.          \"co_envcity\" 101.000000 \n",
            "\n",
            "Variable Importance: NUM_NODES:\n",
            "    1.          \"co_envcity\" 521681.000000 ################\n",
            "    2. \"temperatura_envcity\" 341543.000000 ####\n",
            "    3.     \"umidade_envcity\" 274687.000000 \n",
            "\n",
            "Variable Importance: SUM_SCORE:\n",
            "    1. \"temperatura_envcity\" 317271583635.869934 ################\n",
            "    2.          \"co_envcity\" 309300116075.537964 ##############\n",
            "    3.     \"umidade_envcity\" 240534092355.957214 \n",
            "\n",
            "\n",
            "\n",
            "Out-of-bag evaluation: rmse:149.716\n",
            "Number of trees: 300\n",
            "Total number of nodes: 2276122\n",
            "\n",
            "Number of nodes by tree:\n",
            "Count: 300 Average: 7587.07 StdDev: 435.654\n",
            "Min: 6553 Max: 8775 Ignored: 0\n",
            "----------------------------------------------\n",
            "[ 6553, 6664)  3   1.00%   1.00% #\n",
            "[ 6664, 6775)  3   1.00%   2.00% #\n",
            "[ 6775, 6886) 10   3.33%   5.33% ###\n",
            "[ 6886, 6997) 15   5.00%  10.33% #####\n",
            "[ 6997, 7108) 16   5.33%  15.67% #####\n",
            "[ 7108, 7219) 17   5.67%  21.33% ######\n",
            "[ 7219, 7331) 30  10.00%  31.33% ##########\n",
            "[ 7331, 7442) 21   7.00%  38.33% #######\n",
            "[ 7442, 7553) 30  10.00%  48.33% ##########\n",
            "[ 7553, 7664) 23   7.67%  56.00% ########\n",
            "[ 7664, 7775) 20   6.67%  62.67% #######\n",
            "[ 7775, 7886) 28   9.33%  72.00% #########\n",
            "[ 7886, 7997) 25   8.33%  80.33% ########\n",
            "[ 7997, 8109) 20   6.67%  87.00% #######\n",
            "[ 8109, 8220) 14   4.67%  91.67% #####\n",
            "[ 8220, 8331) 15   5.00%  96.67% #####\n",
            "[ 8331, 8442)  7   2.33%  99.00% ##\n",
            "[ 8442, 8553)  1   0.33%  99.33%\n",
            "[ 8553, 8664)  1   0.33%  99.67%\n",
            "[ 8664, 8775]  1   0.33% 100.00%\n",
            "\n",
            "Depth by leafs:\n",
            "Count: 1.13821e+06 Average: 13.4865 StdDev: 1.75671\n",
            "Min: 3 Max: 15 Ignored: 0\n",
            "----------------------------------------------\n",
            "[  3,  4)      9   0.00%   0.00%\n",
            "[  4,  5)     28   0.00%   0.00%\n",
            "[  5,  6)    203   0.02%   0.02%\n",
            "[  6,  7)   1033   0.09%   0.11%\n",
            "[  7,  8)   3471   0.30%   0.42%\n",
            "[  8,  9)   9844   0.86%   1.28%\n",
            "[  9, 10)  23498   2.06%   3.35%\n",
            "[ 10, 11)  46954   4.13%   7.47% #\n",
            "[ 11, 12)  81040   7.12%  14.59% ##\n",
            "[ 12, 13) 123287  10.83%  25.42% ###\n",
            "[ 13, 14) 168126  14.77%  40.19% ####\n",
            "[ 14, 15) 208258  18.30%  58.49% ####\n",
            "[ 15, 15] 472460  41.51% 100.00% ##########\n",
            "\n",
            "Number of training obs by leaf:\n",
            "Count: 1.13821e+06 Average: 15.4113 StdDev: 43.9916\n",
            "Min: 5 Max: 3325 Ignored: 0\n",
            "----------------------------------------------\n",
            "[    5,  171) 1.12758e+06  99.07%  99.07% ##########\n",
            "[  171,  337)        7009   0.62%  99.68%\n",
            "[  337,  503)        1934   0.17%  99.85%\n",
            "[  503,  669)         789   0.07%  99.92%\n",
            "[  669,  835)         372   0.03%  99.95%\n",
            "[  835, 1001)         209   0.02%  99.97%\n",
            "[ 1001, 1167)         123   0.01%  99.98%\n",
            "[ 1167, 1333)          87   0.01%  99.99%\n",
            "[ 1333, 1499)          35   0.00%  99.99%\n",
            "[ 1499, 1665)          28   0.00% 100.00%\n",
            "[ 1665, 1831)          17   0.00% 100.00%\n",
            "[ 1831, 1997)          13   0.00% 100.00%\n",
            "[ 1997, 2163)           7   0.00% 100.00%\n",
            "[ 2163, 2329)           4   0.00% 100.00%\n",
            "[ 2329, 2495)           1   0.00% 100.00%\n",
            "[ 2495, 2661)           0   0.00% 100.00%\n",
            "[ 2661, 2827)           2   0.00% 100.00%\n",
            "[ 2827, 2993)           1   0.00% 100.00%\n",
            "[ 2993, 3159)           1   0.00% 100.00%\n",
            "[ 3159, 3325]           1   0.00% 100.00%\n",
            "\n",
            "Attribute in nodes:\n",
            "\t521681 : co_envcity [NUMERICAL]\n",
            "\t341543 : temperatura_envcity [NUMERICAL]\n",
            "\t274687 : umidade_envcity [NUMERICAL]\n",
            "\n",
            "Attribute in nodes with depth <= 0:\n",
            "\t199 : temperatura_envcity [NUMERICAL]\n",
            "\t101 : co_envcity [NUMERICAL]\n",
            "\n",
            "Attribute in nodes with depth <= 1:\n",
            "\t344 : temperatura_envcity [NUMERICAL]\n",
            "\t289 : co_envcity [NUMERICAL]\n",
            "\t267 : umidade_envcity [NUMERICAL]\n",
            "\n",
            "Attribute in nodes with depth <= 2:\n",
            "\t888 : umidade_envcity [NUMERICAL]\n",
            "\t759 : co_envcity [NUMERICAL]\n",
            "\t453 : temperatura_envcity [NUMERICAL]\n",
            "\n",
            "Attribute in nodes with depth <= 3:\n",
            "\t1849 : umidade_envcity [NUMERICAL]\n",
            "\t1651 : co_envcity [NUMERICAL]\n",
            "\t991 : temperatura_envcity [NUMERICAL]\n",
            "\n",
            "Attribute in nodes with depth <= 5:\n",
            "\t7037 : co_envcity [NUMERICAL]\n",
            "\t6625 : umidade_envcity [NUMERICAL]\n",
            "\t4888 : temperatura_envcity [NUMERICAL]\n",
            "\n",
            "Condition type in nodes:\n",
            "\t1137911 : HigherCondition\n",
            "Condition type in nodes with depth <= 0:\n",
            "\t300 : HigherCondition\n",
            "Condition type in nodes with depth <= 1:\n",
            "\t900 : HigherCondition\n",
            "Condition type in nodes with depth <= 2:\n",
            "\t2100 : HigherCondition\n",
            "Condition type in nodes with depth <= 3:\n",
            "\t4491 : HigherCondition\n",
            "Condition type in nodes with depth <= 5:\n",
            "\t18550 : HigherCondition\n",
            "Node format: NOT_SET\n",
            "\n",
            "Training OOB:\n",
            "\ttrees: 1, Out-of-bag evaluation: rmse:181.313\n",
            "\ttrees: 11, Out-of-bag evaluation: rmse:157.733\n",
            "\ttrees: 21, Out-of-bag evaluation: rmse:153.116\n",
            "\ttrees: 31, Out-of-bag evaluation: rmse:152.267\n",
            "\ttrees: 41, Out-of-bag evaluation: rmse:150.936\n",
            "\ttrees: 51, Out-of-bag evaluation: rmse:150.372\n",
            "\ttrees: 61, Out-of-bag evaluation: rmse:149.939\n",
            "\ttrees: 71, Out-of-bag evaluation: rmse:149.3\n",
            "\ttrees: 81, Out-of-bag evaluation: rmse:149.066\n",
            "\ttrees: 91, Out-of-bag evaluation: rmse:149.112\n",
            "\ttrees: 101, Out-of-bag evaluation: rmse:149.271\n",
            "\ttrees: 111, Out-of-bag evaluation: rmse:149.437\n",
            "\ttrees: 121, Out-of-bag evaluation: rmse:149.277\n",
            "\ttrees: 131, Out-of-bag evaluation: rmse:149.351\n",
            "\ttrees: 141, Out-of-bag evaluation: rmse:149.341\n",
            "\ttrees: 151, Out-of-bag evaluation: rmse:149.296\n",
            "\ttrees: 161, Out-of-bag evaluation: rmse:149.389\n",
            "\ttrees: 171, Out-of-bag evaluation: rmse:149.382\n",
            "\ttrees: 181, Out-of-bag evaluation: rmse:149.446\n",
            "\ttrees: 191, Out-of-bag evaluation: rmse:149.529\n",
            "\ttrees: 201, Out-of-bag evaluation: rmse:149.639\n",
            "\ttrees: 211, Out-of-bag evaluation: rmse:149.75\n",
            "\ttrees: 221, Out-of-bag evaluation: rmse:149.888\n",
            "\ttrees: 231, Out-of-bag evaluation: rmse:149.862\n",
            "\ttrees: 241, Out-of-bag evaluation: rmse:149.851\n",
            "\ttrees: 251, Out-of-bag evaluation: rmse:149.944\n",
            "\ttrees: 261, Out-of-bag evaluation: rmse:149.859\n",
            "\ttrees: 271, Out-of-bag evaluation: rmse:149.816\n",
            "\ttrees: 281, Out-of-bag evaluation: rmse:149.805\n",
            "\ttrees: 291, Out-of-bag evaluation: rmse:149.741\n",
            "\ttrees: 300, Out-of-bag evaluation: rmse:149.716\n",
            "\n"
          ]
        }
      ],
      "source": [
        "# Summary of the model structure.\n",
        "model.summary()"
      ]
    },
    {
      "cell_type": "code",
      "execution_count": null,
      "metadata": {
        "colab": {
          "base_uri": "https://localhost:8080/"
        },
        "id": "jD4GtfRXT8iw",
        "outputId": "d66f4e3f-8650-4f67-ab93-8023a80bd7a7"
      },
      "outputs": [
        {
          "output_type": "stream",
          "name": "stdout",
          "text": [
            "59/59 [==============================] - 4s 62ms/step - loss: 0.0000e+00 - mse: 13908.8262 - mape: 25.3997\n",
            "{'loss': 0.0, 'mse': 13908.826171875, 'mape': 25.399681091308594}\n",
            "MSE: 13908.826171875\n",
            "RMSE: 117.93568659178187\n"
          ]
        }
      ],
      "source": [
        "# Evaluate the model.\n",
        "import math\n",
        "\n",
        "model.compile(metrics=[\"mse\", \"mape\"])\n",
        "evaluation = model.evaluate(train_ds, return_dict=True)\n",
        "print(evaluation)\n",
        "print(f\"MSE: {evaluation['mse']}\")\n",
        "print(f\"RMSE: {math.sqrt(evaluation['mse'])}\")\n",
        "\n",
        "# Export the model to a SavedModel.\n",
        "# model.save(\"project/model\")"
      ]
    },
    {
      "cell_type": "code",
      "execution_count": null,
      "metadata": {
        "colab": {
          "base_uri": "https://localhost:8080/",
          "height": 404
        },
        "id": "p3qGVkLtRwX5",
        "outputId": "2df5f940-f081-4b42-d08c-09132ef78f0a"
      },
      "outputs": [
        {
          "output_type": "execute_result",
          "data": {
            "text/plain": [
              "<IPython.core.display.HTML object>"
            ],
            "text/html": [
              "\n",
              "<script src=\"https://d3js.org/d3.v6.min.js\"></script>\n",
              "<div id=\"tree_plot_7180dcc0d6d04205b9834776d529691a\"></div>\n",
              "<script>\n",
              "/*\n",
              " * Copyright 2021 Google LLC.\n",
              " * Licensed under the Apache License, Version 2.0 (the \"License\");\n",
              " * you may not use this file except in compliance with the License.\n",
              " * You may obtain a copy of the License at\n",
              " *\n",
              " *     https://www.apache.org/licenses/LICENSE-2.0\n",
              " *\n",
              " * Unless required by applicable law or agreed to in writing, software\n",
              " * distributed under the License is distributed on an \"AS IS\" BASIS,\n",
              " * WITHOUT WARRANTIES OR CONDITIONS OF ANY KIND, either express or implied.\n",
              " * See the License for the specific language governing permissions and\n",
              " * limitations under the License.\n",
              " */\n",
              "\n",
              "/**\n",
              " *  Plotting of decision trees generated by TF-DF.\n",
              " *\n",
              " *  A tree is a recursive structure of node objects.\n",
              " *  A node contains one or more of the following components:\n",
              " *\n",
              " *    - A value: Representing the output of the node. If the node is not a leaf,\n",
              " *      the value is only present for analysis i.e. it is not used for\n",
              " *      predictions.\n",
              " *\n",
              " *    - A condition : For non-leaf nodes, the condition (also known as split)\n",
              " *      defines a binary test to branch to the positive or negative child.\n",
              " *\n",
              " *    - An explanation: Generally a plot showing the relation between the label\n",
              " *      and the condition to give insights about the effect of the condition.\n",
              " *\n",
              " *    - Two children : For non-leaf nodes, the children nodes. The first\n",
              " *      children (i.e. \"node.children[0]\") is the negative children (drawn in\n",
              " *      red). The second children is the positive one (drawn in green).\n",
              " *\n",
              " */\n",
              "\n",
              "/**\n",
              " * Plots a single decision tree into a DOM element.\n",
              " * @param {!options} options Dictionary of configurations.\n",
              " * @param {!tree} raw_tree Recursive tree structure.\n",
              " * @param {string} canvas_id Id of the output dom element.\n",
              " */\n",
              "function display_tree(options, raw_tree, canvas_id) {\n",
              "  console.log(options);\n",
              "\n",
              "  // Determine the node placement.\n",
              "  const tree_struct = d3.tree().nodeSize(\n",
              "      [options.node_y_offset, options.node_x_offset])(d3.hierarchy(raw_tree));\n",
              "\n",
              "  // Boundaries of the node placement.\n",
              "  let x_min = Infinity;\n",
              "  let x_max = -x_min;\n",
              "  let y_min = Infinity;\n",
              "  let y_max = -x_min;\n",
              "\n",
              "  tree_struct.each(d => {\n",
              "    if (d.x > x_max) x_max = d.x;\n",
              "    if (d.x < x_min) x_min = d.x;\n",
              "    if (d.y > y_max) y_max = d.y;\n",
              "    if (d.y < y_min) y_min = d.y;\n",
              "  });\n",
              "\n",
              "  // Size of the plot.\n",
              "  const width = y_max - y_min + options.node_x_size + options.margin * 2;\n",
              "  const height = x_max - x_min + options.node_y_size + options.margin * 2 +\n",
              "      options.node_y_offset - options.node_y_size;\n",
              "\n",
              "  const plot = d3.select(canvas_id);\n",
              "\n",
              "  // Tool tip\n",
              "  options.tooltip = plot.append('div')\n",
              "                        .attr('width', 100)\n",
              "                        .attr('height', 100)\n",
              "                        .style('padding', '4px')\n",
              "                        .style('background', '#fff')\n",
              "                        .style('box-shadow', '4px 4px 0px rgba(0,0,0,0.1)')\n",
              "                        .style('border', '1px solid black')\n",
              "                        .style('font-family', 'sans-serif')\n",
              "                        .style('font-size', options.font_size)\n",
              "                        .style('position', 'absolute')\n",
              "                        .style('z-index', '10')\n",
              "                        .attr('pointer-events', 'none')\n",
              "                        .style('display', 'none');\n",
              "\n",
              "  // Create canvas\n",
              "  const svg = plot.append('svg').attr('width', width).attr('height', height);\n",
              "  const graph =\n",
              "      svg.style('overflow', 'visible')\n",
              "          .append('g')\n",
              "          .attr('font-family', 'sans-serif')\n",
              "          .attr('font-size', options.font_size)\n",
              "          .attr(\n",
              "              'transform',\n",
              "              () => `translate(${options.margin},${\n",
              "                  - x_min + options.node_y_offset / 2 + options.margin})`);\n",
              "\n",
              "  // Plot bounding box.\n",
              "  if (options.show_plot_bounding_box) {\n",
              "    svg.append('rect')\n",
              "        .attr('width', width)\n",
              "        .attr('height', height)\n",
              "        .attr('fill', 'none')\n",
              "        .attr('stroke-width', 1.0)\n",
              "        .attr('stroke', 'black');\n",
              "  }\n",
              "\n",
              "  // Draw the edges.\n",
              "  display_edges(options, graph, tree_struct);\n",
              "\n",
              "  // Draw the nodes.\n",
              "  display_nodes(options, graph, tree_struct);\n",
              "}\n",
              "\n",
              "/**\n",
              " * Draw the nodes of the tree.\n",
              " * @param {!options} options Dictionary of configurations.\n",
              " * @param {!graph} graph D3 search handle containing the graph.\n",
              " * @param {!tree_struct} tree_struct Structure of the tree (node placement,\n",
              " *     data, etc.).\n",
              " */\n",
              "function display_nodes(options, graph, tree_struct) {\n",
              "  const nodes = graph.append('g')\n",
              "                    .selectAll('g')\n",
              "                    .data(tree_struct.descendants())\n",
              "                    .join('g')\n",
              "                    .attr('transform', d => `translate(${d.y},${d.x})`);\n",
              "\n",
              "  nodes.append('rect')\n",
              "      .attr('x', 0.5)\n",
              "      .attr('y', 0.5)\n",
              "      .attr('width', options.node_x_size)\n",
              "      .attr('height', options.node_y_size)\n",
              "      .attr('stroke', 'lightgrey')\n",
              "      .attr('stroke-width', 1)\n",
              "      .attr('fill', 'white')\n",
              "      .attr('y', -options.node_y_size / 2);\n",
              "\n",
              "  // Brackets on the right of condition nodes without children.\n",
              "  non_leaf_node_without_children =\n",
              "      nodes.filter(node => node.data.condition != null && node.children == null)\n",
              "          .append('g')\n",
              "          .attr('transform', `translate(${options.node_x_size},0)`);\n",
              "\n",
              "  non_leaf_node_without_children.append('path')\n",
              "      .attr('d', 'M0,0 C 10,0 0,10 10,10')\n",
              "      .attr('fill', 'none')\n",
              "      .attr('stroke-width', 1.0)\n",
              "      .attr('stroke', '#F00');\n",
              "\n",
              "  non_leaf_node_without_children.append('path')\n",
              "      .attr('d', 'M0,0 C 10,0 0,-10 10,-10')\n",
              "      .attr('fill', 'none')\n",
              "      .attr('stroke-width', 1.0)\n",
              "      .attr('stroke', '#0F0');\n",
              "\n",
              "  const node_content = nodes.append('g').attr(\n",
              "      'transform',\n",
              "      `translate(0,${options.node_padding - options.node_y_size / 2})`);\n",
              "\n",
              "  node_content.append(node => create_node_element(options, node));\n",
              "}\n",
              "\n",
              "/**\n",
              " * Creates the D3 content for a single node.\n",
              " * @param {!options} options Dictionary of configurations.\n",
              " * @param {!node} node Node to draw.\n",
              " * @return {!d3} D3 content.\n",
              " */\n",
              "function create_node_element(options, node) {\n",
              "  // Output accumulator.\n",
              "  let output = {\n",
              "    // Content to draw.\n",
              "    content: d3.create('svg:g'),\n",
              "    // Vertical offset to the next element to draw.\n",
              "    vertical_offset: 0\n",
              "  };\n",
              "\n",
              "  // Conditions.\n",
              "  if (node.data.condition != null) {\n",
              "    display_condition(options, node.data.condition, output);\n",
              "  }\n",
              "\n",
              "  // Values.\n",
              "  if (node.data.value != null) {\n",
              "    display_value(options, node.data.value, output);\n",
              "  }\n",
              "\n",
              "  // Explanations.\n",
              "  if (node.data.explanation != null) {\n",
              "    display_explanation(options, node.data.explanation, output);\n",
              "  }\n",
              "\n",
              "  return output.content.node();\n",
              "}\n",
              "\n",
              "\n",
              "/**\n",
              " * Adds a single line of text inside of a node.\n",
              " * @param {!options} options Dictionary of configurations.\n",
              " * @param {string} text Text to display.\n",
              " * @param {!output} output Output display accumulator.\n",
              " */\n",
              "function display_node_text(options, text, output) {\n",
              "  output.content.append('text')\n",
              "      .attr('x', options.node_padding)\n",
              "      .attr('y', output.vertical_offset)\n",
              "      .attr('alignment-baseline', 'hanging')\n",
              "      .text(text);\n",
              "  output.vertical_offset += 10;\n",
              "}\n",
              "\n",
              "/**\n",
              " * Adds a single line of text inside of a node with a tooltip.\n",
              " * @param {!options} options Dictionary of configurations.\n",
              " * @param {string} text Text to display.\n",
              " * @param {string} tooltip Text in the Tooltip.\n",
              " * @param {!output} output Output display accumulator.\n",
              " */\n",
              "function display_node_text_with_tooltip(options, text, tooltip, output) {\n",
              "  const item = output.content.append('text')\n",
              "                   .attr('x', options.node_padding)\n",
              "                   .attr('alignment-baseline', 'hanging')\n",
              "                   .text(text);\n",
              "\n",
              "  add_tooltip(options, item, () => tooltip);\n",
              "  output.vertical_offset += 10;\n",
              "}\n",
              "\n",
              "/**\n",
              " * Adds a tooltip to a dom element.\n",
              " * @param {!options} options Dictionary of configurations.\n",
              " * @param {!dom} target Dom element to equip with a tooltip.\n",
              " * @param {!func} get_content Generates the html content of the tooltip.\n",
              " */\n",
              "function add_tooltip(options, target, get_content) {\n",
              "  function show(d) {\n",
              "    options.tooltip.style('display', 'block');\n",
              "    options.tooltip.html(get_content());\n",
              "  }\n",
              "\n",
              "  function hide(d) {\n",
              "    options.tooltip.style('display', 'none');\n",
              "  }\n",
              "\n",
              "  function move(d) {\n",
              "    options.tooltip.style('display', 'block');\n",
              "    options.tooltip.style('left', (d.pageX + 5) + 'px');\n",
              "    options.tooltip.style('top', d.pageY + 'px');\n",
              "  }\n",
              "\n",
              "  target.on('mouseover', show);\n",
              "  target.on('mouseout', hide);\n",
              "  target.on('mousemove', move);\n",
              "}\n",
              "\n",
              "/**\n",
              " * Adds a condition inside of a node.\n",
              " * @param {!options} options Dictionary of configurations.\n",
              " * @param {!condition} condition Condition to display.\n",
              " * @param {!output} output Output display accumulator.\n",
              " */\n",
              "function display_condition(options, condition, output) {\n",
              "  threshold_format = d3.format('r');\n",
              "\n",
              "  if (condition.type === 'IS_MISSING') {\n",
              "    display_node_text(options, `${condition.attribute} is missing`, output);\n",
              "    return;\n",
              "  }\n",
              "\n",
              "  if (condition.type === 'IS_TRUE') {\n",
              "    display_node_text(options, `${condition.attribute} is true`, output);\n",
              "    return;\n",
              "  }\n",
              "\n",
              "  if (condition.type === 'NUMERICAL_IS_HIGHER_THAN') {\n",
              "    format = d3.format('r');\n",
              "    display_node_text(\n",
              "        options,\n",
              "        `${condition.attribute} >= ${threshold_format(condition.threshold)}`,\n",
              "        output);\n",
              "    return;\n",
              "  }\n",
              "\n",
              "  if (condition.type === 'CATEGORICAL_IS_IN') {\n",
              "    display_node_text_with_tooltip(\n",
              "        options, `${condition.attribute} in [...]`,\n",
              "        `${condition.attribute} in [${condition.mask}]`, output);\n",
              "    return;\n",
              "  }\n",
              "\n",
              "  if (condition.type === 'CATEGORICAL_SET_CONTAINS') {\n",
              "    display_node_text_with_tooltip(\n",
              "        options, `${condition.attribute} intersect [...]`,\n",
              "        `${condition.attribute} intersect [${condition.mask}]`, output);\n",
              "    return;\n",
              "  }\n",
              "\n",
              "  if (condition.type === 'NUMERICAL_SPARSE_OBLIQUE') {\n",
              "    display_node_text_with_tooltip(\n",
              "        options, `Sparse oblique split...`,\n",
              "        `[${condition.attributes}]*[${condition.weights}]>=${\n",
              "            threshold_format(condition.threshold)}`,\n",
              "        output);\n",
              "    return;\n",
              "  }\n",
              "\n",
              "  display_node_text(\n",
              "      options, `Non supported condition ${condition.type}`, output);\n",
              "}\n",
              "\n",
              "/**\n",
              " * Adds a value inside of a node.\n",
              " * @param {!options} options Dictionary of configurations.\n",
              " * @param {!value} value Value to display.\n",
              " * @param {!output} output Output display accumulator.\n",
              " */\n",
              "function display_value(options, value, output) {\n",
              "  if (value.type === 'PROBABILITY') {\n",
              "    const left_margin = 0;\n",
              "    const right_margin = 50;\n",
              "    const plot_width = options.node_x_size - options.node_padding * 2 -\n",
              "        left_margin - right_margin;\n",
              "\n",
              "    let cusum = Array.from(d3.cumsum(value.distribution));\n",
              "    cusum.unshift(0);\n",
              "    const distribution_plot = output.content.append('g').attr(\n",
              "        'transform', `translate(0,${output.vertical_offset + 0.5})`);\n",
              "\n",
              "    distribution_plot.selectAll('rect')\n",
              "        .data(value.distribution)\n",
              "        .join('rect')\n",
              "        .attr('height', 10)\n",
              "        .attr(\n",
              "            'x',\n",
              "            (d, i) =>\n",
              "                (cusum[i] * plot_width + left_margin + options.node_padding))\n",
              "        .attr('width', (d, i) => d * plot_width)\n",
              "        .style('fill', (d, i) => d3.schemeSet1[i]);\n",
              "\n",
              "    const num_examples =\n",
              "        output.content.append('g')\n",
              "            .attr('transform', `translate(0,${output.vertical_offset})`)\n",
              "            .append('text')\n",
              "            .attr('x', options.node_x_size - options.node_padding)\n",
              "            .attr('alignment-baseline', 'hanging')\n",
              "            .attr('text-anchor', 'end')\n",
              "            .text(`(${value.num_examples})`);\n",
              "\n",
              "    const distribution_details = d3.create('ul');\n",
              "    distribution_details.selectAll('li')\n",
              "        .data(value.distribution)\n",
              "        .join('li')\n",
              "        .append('span')\n",
              "        .text(\n",
              "            (d, i) =>\n",
              "                'class ' + i + ': ' + d3.format('.3%')(value.distribution[i]));\n",
              "\n",
              "    add_tooltip(options, distribution_plot, () => distribution_details.html());\n",
              "    add_tooltip(options, num_examples, () => 'Number of examples');\n",
              "\n",
              "    output.vertical_offset += 10;\n",
              "    return;\n",
              "  }\n",
              "\n",
              "  if (value.type === 'REGRESSION') {\n",
              "    display_node_text(\n",
              "        options,\n",
              "        'value: ' + d3.format('r')(value.value) + ` (` +\n",
              "            d3.format('.6')(value.num_examples) + `)`,\n",
              "        output);\n",
              "    return;\n",
              "  }\n",
              "\n",
              "  display_node_text(options, `Non supported value ${value.type}`, output);\n",
              "}\n",
              "\n",
              "/**\n",
              " * Adds an explanation inside of a node.\n",
              " * @param {!options} options Dictionary of configurations.\n",
              " * @param {!explanation} explanation Explanation to display.\n",
              " * @param {!output} output Output display accumulator.\n",
              " */\n",
              "function display_explanation(options, explanation, output) {\n",
              "  // Margin before the explanation.\n",
              "  output.vertical_offset += 10;\n",
              "\n",
              "  display_node_text(\n",
              "      options, `Non supported explanation ${explanation.type}`, output);\n",
              "}\n",
              "\n",
              "\n",
              "/**\n",
              " * Draw the edges of the tree.\n",
              " * @param {!options} options Dictionary of configurations.\n",
              " * @param {!graph} graph D3 search handle containing the graph.\n",
              " * @param {!tree_struct} tree_struct Structure of the tree (node placement,\n",
              " *     data, etc.).\n",
              " */\n",
              "function display_edges(options, graph, tree_struct) {\n",
              "  // Draw an edge between a parent and a child node with a bezier.\n",
              "  function draw_single_edge(d) {\n",
              "    return 'M' + (d.source.y + options.node_x_size) + ',' + d.source.x + ' C' +\n",
              "        (d.source.y + options.node_x_size + options.edge_rounding) + ',' +\n",
              "        d.source.x + ' ' + (d.target.y - options.edge_rounding) + ',' +\n",
              "        d.target.x + ' ' + d.target.y + ',' + d.target.x;\n",
              "  }\n",
              "\n",
              "  graph.append('g')\n",
              "      .attr('fill', 'none')\n",
              "      .attr('stroke-width', 1.2)\n",
              "      .selectAll('path')\n",
              "      .data(tree_struct.links())\n",
              "      .join('path')\n",
              "      .attr('d', draw_single_edge)\n",
              "      .attr(\n",
              "          'stroke', d => (d.target === d.source.children[0]) ? '#0F0' : '#F00');\n",
              "}\n",
              "\n",
              "display_tree({\"margin\": 10, \"node_x_size\": 160, \"node_y_size\": 28, \"node_x_offset\": 180, \"node_y_offset\": 33, \"font_size\": 10, \"edge_rounding\": 20, \"node_padding\": 2, \"show_plot_bounding_box\": false}, {\"value\": {\"type\": \"REGRESSION\", \"value\": 261.9455871582031, \"num_examples\": 58471.0, \"standard_deviation\": 247.49372130361334}, \"condition\": {\"type\": \"NUMERICAL_IS_HIGHER_THAN\", \"attribute\": \"co_envcity\", \"threshold\": 149.77499389648438}, \"children\": [{\"value\": {\"type\": \"REGRESSION\", \"value\": 296.7882080078125, \"num_examples\": 35074.0, \"standard_deviation\": 297.3099295118711}, \"condition\": {\"type\": \"NUMERICAL_IS_HIGHER_THAN\", \"attribute\": \"temperatura_envcity\", \"threshold\": 20.692001342773438}, \"children\": [{\"value\": {\"type\": \"REGRESSION\", \"value\": 385.5435485839844, \"num_examples\": 13890.0, \"standard_deviation\": 414.1282747464155}, \"condition\": {\"type\": \"NUMERICAL_IS_HIGHER_THAN\", \"attribute\": \"co_envcity\", \"threshold\": 201.468505859375}, \"children\": [{\"value\": {\"type\": \"REGRESSION\", \"value\": 466.7139587402344, \"num_examples\": 6485.0, \"standard_deviation\": 510.04961047759815}, \"condition\": {\"type\": \"NUMERICAL_IS_HIGHER_THAN\", \"attribute\": \"umidade_envcity\", \"threshold\": 74.15800476074219}}, {\"value\": {\"type\": \"REGRESSION\", \"value\": 314.4577941894531, \"num_examples\": 7405.0, \"standard_deviation\": 288.1741043025261}, \"condition\": {\"type\": \"NUMERICAL_IS_HIGHER_THAN\", \"attribute\": \"umidade_envcity\", \"threshold\": 58.5}}]}, {\"value\": {\"type\": \"REGRESSION\", \"value\": 238.59280395507812, \"num_examples\": 21184.0, \"standard_deviation\": 159.21089628248626}, \"condition\": {\"type\": \"NUMERICAL_IS_HIGHER_THAN\", \"attribute\": \"umidade_envcity\", \"threshold\": 92.05450439453125}, \"children\": [{\"value\": {\"type\": \"REGRESSION\", \"value\": 307.934326171875, \"num_examples\": 3350.0, \"standard_deviation\": 232.36827791838942}, \"condition\": {\"type\": \"NUMERICAL_IS_HIGHER_THAN\", \"attribute\": \"co_envcity\", \"threshold\": 1119.407470703125}}, {\"value\": {\"type\": \"REGRESSION\", \"value\": 225.5674591064453, \"num_examples\": 17834.0, \"standard_deviation\": 137.45587797215288}, \"condition\": {\"type\": \"NUMERICAL_IS_HIGHER_THAN\", \"attribute\": \"umidade_envcity\", \"threshold\": 79.9365005493164}}]}]}, {\"value\": {\"type\": \"REGRESSION\", \"value\": 209.71363830566406, \"num_examples\": 23397.0, \"standard_deviation\": 126.5698586142352}, \"condition\": {\"type\": \"NUMERICAL_IS_HIGHER_THAN\", \"attribute\": \"temperatura_envcity\", \"threshold\": 19.61600112915039}, \"children\": [{\"value\": {\"type\": \"REGRESSION\", \"value\": 236.1678466796875, \"num_examples\": 11534.0, \"standard_deviation\": 132.60597119386665}, \"condition\": {\"type\": \"NUMERICAL_IS_HIGHER_THAN\", \"attribute\": \"umidade_envcity\", \"threshold\": 73.22450256347656}, \"children\": [{\"value\": {\"type\": \"REGRESSION\", \"value\": 286.53533935546875, \"num_examples\": 2716.0, \"standard_deviation\": 208.8309010085521}, \"condition\": {\"type\": \"NUMERICAL_IS_HIGHER_THAN\", \"attribute\": \"temperatura_envcity\", \"threshold\": 19.885499954223633}}, {\"value\": {\"type\": \"REGRESSION\", \"value\": 220.6543426513672, \"num_examples\": 8818.0, \"standard_deviation\": 92.44525050518895}, \"condition\": {\"type\": \"NUMERICAL_IS_HIGHER_THAN\", \"attribute\": \"temperatura_envcity\", \"threshold\": 25.295000076293945}}]}, {\"value\": {\"type\": \"REGRESSION\", \"value\": 183.9930877685547, \"num_examples\": 11863.0, \"standard_deviation\": 114.70369357831846}, \"condition\": {\"type\": \"NUMERICAL_IS_HIGHER_THAN\", \"attribute\": \"umidade_envcity\", \"threshold\": 51.5}, \"children\": [{\"value\": {\"type\": \"REGRESSION\", \"value\": 204.1000518798828, \"num_examples\": 8695.0, \"standard_deviation\": 121.39344923413479}, \"condition\": {\"type\": \"NUMERICAL_IS_HIGHER_THAN\", \"attribute\": \"umidade_envcity\", \"threshold\": 83.84950256347656}}, {\"value\": {\"type\": \"REGRESSION\", \"value\": 128.80682373046875, \"num_examples\": 3168.0, \"standard_deviation\": 68.31413665299233}, \"condition\": {\"type\": \"NUMERICAL_IS_HIGHER_THAN\", \"attribute\": \"umidade_envcity\", \"threshold\": 20.25}}]}]}]}, \"#tree_plot_7180dcc0d6d04205b9834776d529691a\")\n",
              "</script>\n"
            ]
          },
          "metadata": {},
          "execution_count": 70
        }
      ],
      "source": [
        "tfdf.model_plotter.plot_model_in_colab(model, tree_idx=0)"
      ]
    },
    {
      "cell_type": "code",
      "execution_count": null,
      "metadata": {
        "id": "goTOiTTBLsVQ"
      },
      "outputs": [],
      "source": [
        "model.make_inspector().features()\n"
      ]
    },
    {
      "cell_type": "code",
      "execution_count": null,
      "metadata": {
        "id": "ps7Y9ZktLxHd"
      },
      "outputs": [],
      "source": [
        "model.make_inspector().variable_importances()\n"
      ]
    },
    {
      "cell_type": "code",
      "execution_count": null,
      "metadata": {
        "colab": {
          "base_uri": "https://localhost:8080/"
        },
        "id": "3qs-Wzm8MC9C",
        "outputId": "8ebb8305-f4ca-4e2b-e556-95d3a15e034d"
      },
      "outputs": [
        {
          "output_type": "execute_result",
          "data": {
            "text/plain": [
              "Evaluation(num_examples=58471, accuracy=None, loss=None, rmse=149.71597023579022, ndcg=None, aucs=None, auuc=None, qini=None)"
            ]
          },
          "metadata": {},
          "execution_count": 68
        }
      ],
      "source": [
        "model.make_inspector().evaluation()\n"
      ]
    },
    {
      "cell_type": "code",
      "execution_count": null,
      "metadata": {
        "colab": {
          "base_uri": "https://localhost:8080/",
          "height": 316
        },
        "id": "uKDKH2SkNARZ",
        "outputId": "9e9dbe8e-d724-4a7f-c32d-6bb80437843a"
      },
      "outputs": [
        {
          "output_type": "stream",
          "name": "stdout",
          "text": [
            "[TrainLog(num_trees=1, evaluation=Evaluation(num_examples=21542, accuracy=None, loss=None, rmse=181.31302739932525, ndcg=None, aucs=None, auuc=None, qini=None)), TrainLog(num_trees=11, evaluation=Evaluation(num_examples=58086, accuracy=None, loss=None, rmse=157.73312728695717, ndcg=None, aucs=None, auuc=None, qini=None)), TrainLog(num_trees=21, evaluation=Evaluation(num_examples=58467, accuracy=None, loss=None, rmse=153.11609875759413, ndcg=None, aucs=None, auuc=None, qini=None)), TrainLog(num_trees=31, evaluation=Evaluation(num_examples=58471, accuracy=None, loss=None, rmse=152.26741757544187, ndcg=None, aucs=None, auuc=None, qini=None)), TrainLog(num_trees=41, evaluation=Evaluation(num_examples=58471, accuracy=None, loss=None, rmse=150.93570950424845, ndcg=None, aucs=None, auuc=None, qini=None)), TrainLog(num_trees=51, evaluation=Evaluation(num_examples=58471, accuracy=None, loss=None, rmse=150.37203900576978, ndcg=None, aucs=None, auuc=None, qini=None)), TrainLog(num_trees=61, evaluation=Evaluation(num_examples=58471, accuracy=None, loss=None, rmse=149.93948676287596, ndcg=None, aucs=None, auuc=None, qini=None)), TrainLog(num_trees=71, evaluation=Evaluation(num_examples=58471, accuracy=None, loss=None, rmse=149.29955372970215, ndcg=None, aucs=None, auuc=None, qini=None)), TrainLog(num_trees=81, evaluation=Evaluation(num_examples=58471, accuracy=None, loss=None, rmse=149.06601173639282, ndcg=None, aucs=None, auuc=None, qini=None)), TrainLog(num_trees=91, evaluation=Evaluation(num_examples=58471, accuracy=None, loss=None, rmse=149.11183414988685, ndcg=None, aucs=None, auuc=None, qini=None)), TrainLog(num_trees=101, evaluation=Evaluation(num_examples=58471, accuracy=None, loss=None, rmse=149.27084019646333, ndcg=None, aucs=None, auuc=None, qini=None)), TrainLog(num_trees=111, evaluation=Evaluation(num_examples=58471, accuracy=None, loss=None, rmse=149.43741485374636, ndcg=None, aucs=None, auuc=None, qini=None)), TrainLog(num_trees=121, evaluation=Evaluation(num_examples=58471, accuracy=None, loss=None, rmse=149.27712956087964, ndcg=None, aucs=None, auuc=None, qini=None)), TrainLog(num_trees=131, evaluation=Evaluation(num_examples=58471, accuracy=None, loss=None, rmse=149.35130427011026, ndcg=None, aucs=None, auuc=None, qini=None)), TrainLog(num_trees=141, evaluation=Evaluation(num_examples=58471, accuracy=None, loss=None, rmse=149.3411144058131, ndcg=None, aucs=None, auuc=None, qini=None)), TrainLog(num_trees=151, evaluation=Evaluation(num_examples=58471, accuracy=None, loss=None, rmse=149.29647445032055, ndcg=None, aucs=None, auuc=None, qini=None)), TrainLog(num_trees=161, evaluation=Evaluation(num_examples=58471, accuracy=None, loss=None, rmse=149.3889763362766, ndcg=None, aucs=None, auuc=None, qini=None)), TrainLog(num_trees=171, evaluation=Evaluation(num_examples=58471, accuracy=None, loss=None, rmse=149.3824187392713, ndcg=None, aucs=None, auuc=None, qini=None)), TrainLog(num_trees=181, evaluation=Evaluation(num_examples=58471, accuracy=None, loss=None, rmse=149.44557281588985, ndcg=None, aucs=None, auuc=None, qini=None)), TrainLog(num_trees=191, evaluation=Evaluation(num_examples=58471, accuracy=None, loss=None, rmse=149.52948634590342, ndcg=None, aucs=None, auuc=None, qini=None)), TrainLog(num_trees=201, evaluation=Evaluation(num_examples=58471, accuracy=None, loss=None, rmse=149.63872964717808, ndcg=None, aucs=None, auuc=None, qini=None)), TrainLog(num_trees=211, evaluation=Evaluation(num_examples=58471, accuracy=None, loss=None, rmse=149.7503147306852, ndcg=None, aucs=None, auuc=None, qini=None)), TrainLog(num_trees=221, evaluation=Evaluation(num_examples=58471, accuracy=None, loss=None, rmse=149.88764849071637, ndcg=None, aucs=None, auuc=None, qini=None)), TrainLog(num_trees=231, evaluation=Evaluation(num_examples=58471, accuracy=None, loss=None, rmse=149.86165361984493, ndcg=None, aucs=None, auuc=None, qini=None)), TrainLog(num_trees=241, evaluation=Evaluation(num_examples=58471, accuracy=None, loss=None, rmse=149.8512703549149, ndcg=None, aucs=None, auuc=None, qini=None)), TrainLog(num_trees=251, evaluation=Evaluation(num_examples=58471, accuracy=None, loss=None, rmse=149.9441610630472, ndcg=None, aucs=None, auuc=None, qini=None)), TrainLog(num_trees=261, evaluation=Evaluation(num_examples=58471, accuracy=None, loss=None, rmse=149.85864038740456, ndcg=None, aucs=None, auuc=None, qini=None)), TrainLog(num_trees=271, evaluation=Evaluation(num_examples=58471, accuracy=None, loss=None, rmse=149.8163764089792, ndcg=None, aucs=None, auuc=None, qini=None)), TrainLog(num_trees=281, evaluation=Evaluation(num_examples=58471, accuracy=None, loss=None, rmse=149.80487738855007, ndcg=None, aucs=None, auuc=None, qini=None)), TrainLog(num_trees=291, evaluation=Evaluation(num_examples=58471, accuracy=None, loss=None, rmse=149.74092211183878, ndcg=None, aucs=None, auuc=None, qini=None)), TrainLog(num_trees=300, evaluation=Evaluation(num_examples=58471, accuracy=None, loss=None, rmse=149.71597023579022, ndcg=None, aucs=None, auuc=None, qini=None))]\n"
          ]
        },
        {
          "output_type": "display_data",
          "data": {
            "text/plain": [
              "<Figure size 864x288 with 2 Axes>"
            ],
            "image/png": "[encoded data removed]"
          },
          "metadata": {
            "needs_background": "light"
          }
        }
      ],
      "source": [
        "logs = model.make_inspector().training_logs()\n",
        "print(logs)\n",
        "\n",
        "plt.figure(figsize=(12, 4))\n",
        "\n",
        "plt.subplot(1, 2, 1)\n",
        "plt.plot([log.num_trees for log in logs], [log.evaluation.rmse for log in logs])\n",
        "plt.xlabel(\"Number of trees\")\n",
        "plt.ylabel(\"Accuracy (out-of-bag)\")\n",
        "\n",
        "plt.subplot(1, 2, 2)\n",
        "plt.plot([log.num_trees for log in logs], [log.evaluation.rmse for log in logs])\n",
        "plt.xlabel(\"Number of trees\")\n",
        "plt.ylabel(\"Logloss (out-of-bag)\")\n",
        "\n",
        "plt.show()"
      ]
    },
    {
      "cell_type": "code",
      "source": [
        "model.predict(test_ds)"
      ],
      "metadata": {
        "colab": {
          "base_uri": "https://localhost:8080/"
        },
        "id": "kJYD_s30dDpy",
        "outputId": "c3e8aa29-534d-43de-a6de-465a962c255e"
      },
      "execution_count": null,
      "outputs": [
        {
          "output_type": "stream",
          "name": "stdout",
          "text": [
            "26/26 [==============================] - 1s 45ms/step\n"
          ]
        },
        {
          "output_type": "execute_result",
          "data": {
            "text/plain": [
              "array([[600.6193 ],\n",
              "       [544.51337],\n",
              "       [596.8809 ],\n",
              "       ...,\n",
              "       [215.29674],\n",
              "       [212.69946],\n",
              "       [213.90068]], dtype=float32)"
            ]
          },
          "metadata": {},
          "execution_count": 72
        }
      ]
    },
    {
      "cell_type": "code",
      "source": [
        "test_ds_pd[label]"
      ],
      "metadata": {
        "colab": {
          "base_uri": "https://localhost:8080/"
        },
        "id": "Lx_rM05MdVsB",
        "outputId": "d9506c31-f05d-47fa-8a02-a9cbbb9f9362"
      },
      "execution_count": null,
      "outputs": [
        {
          "output_type": "execute_result",
          "data": {
            "text/plain": [
              "Unnamed: 0\n",
              "2022-05-02 16:02:00+00:00    600.0\n",
              "2022-05-02 16:09:00+00:00    600.0\n",
              "2022-05-02 16:11:00+00:00    600.0\n",
              "2022-05-02 16:12:00+00:00    620.0\n",
              "2022-05-02 16:13:00+00:00    620.0\n",
              "                             ...  \n",
              "2022-11-05 14:27:00+00:00    220.0\n",
              "2022-11-05 14:30:00+00:00    220.0\n",
              "2022-11-05 14:34:00+00:00    230.0\n",
              "2022-11-05 14:36:00+00:00    220.0\n",
              "2022-11-05 14:37:00+00:00    230.0\n",
              "Name: co_thermo, Length: 25211, dtype: float64"
            ]
          },
          "metadata": {},
          "execution_count": 75
        }
      ]
    },
    {
      "cell_type": "code",
      "source": [
        "sns.regplot(x = test_ds_pd[label], y = model.predict(test_ds))"
      ],
      "metadata": {
        "colab": {
          "base_uri": "https://localhost:8080/",
          "height": 315
        },
        "id": "bKq3gv94dh_M",
        "outputId": "8e7e57c2-0b68-4231-9c99-0dd2be586647"
      },
      "execution_count": null,
      "outputs": [
        {
          "output_type": "stream",
          "name": "stdout",
          "text": [
            "26/26 [==============================] - 1s 51ms/step\n"
          ]
        },
        {
          "output_type": "execute_result",
          "data": {
            "text/plain": [
              "<matplotlib.axes._subplots.AxesSubplot at 0x7f8234fedd60>"
            ]
          },
          "metadata": {},
          "execution_count": 78
        },
        {
          "output_type": "display_data",
          "data": {
            "text/plain": [
              "<Figure size 432x288 with 1 Axes>"
            ],
            "image/png": "[encoded data removed]"
          },
          "metadata": {
            "needs_background": "light"
          }
        }
      ]
    },
    {
      "cell_type": "code",
      "source": [
        "sns.regplot(x = test_ds_pd[label], y = test_ds_pd[label_envcity])"
      ],
      "metadata": {
        "id": "IvpJbFzldyk3",
        "outputId": "d0056ca3-4707-4d2d-e6c3-1a3d80d98423",
        "colab": {
          "base_uri": "https://localhost:8080/",
          "height": 165
        }
      },
      "execution_count": null,
      "outputs": [
        {
          "output_type": "error",
          "ename": "NameError",
          "evalue": "ignored",
          "traceback": [
            "\u001b[0;31m---------------------------------------------------------------------------\u001b[0m",
            "\u001b[0;31mNameError\u001b[0m                                 Traceback (most recent call last)",
            "\u001b[0;32m<ipython-input-79-76e76a953667>\u001b[0m in \u001b[0;36m<module>\u001b[0;34m\u001b[0m\n\u001b[0;32m----> 1\u001b[0;31m \u001b[0msns\u001b[0m\u001b[0;34m.\u001b[0m\u001b[0mregplot\u001b[0m\u001b[0;34m(\u001b[0m\u001b[0mx\u001b[0m \u001b[0;34m=\u001b[0m \u001b[0mtest_ds_pd\u001b[0m\u001b[0;34m[\u001b[0m\u001b[0mlabel\u001b[0m\u001b[0;34m]\u001b[0m\u001b[0;34m,\u001b[0m \u001b[0my\u001b[0m \u001b[0;34m=\u001b[0m \u001b[0mtest_df_pd\u001b[0m\u001b[0;34m[\u001b[0m\u001b[0mlabel_envcity\u001b[0m\u001b[0;34m]\u001b[0m\u001b[0;34m)\u001b[0m\u001b[0;34m\u001b[0m\u001b[0;34m\u001b[0m\u001b[0m\n\u001b[0m",
            "\u001b[0;31mNameError\u001b[0m: name 'test_df_pd' is not defined"
          ]
        }
      ]
    }
  ],
  "metadata": {
    "colab": {
      "provenance": [],
      "authorship_tag": "ABX9TyP3V7bf3bIkT/nFXPXKUGSW",
      "include_colab_link": true
    },
    "kernelspec": {
      "display_name": "Python 3",
      "name": "python3"
    },
    "language_info": {
      "name": "python"
    }
  },
  "nbformat": 4,
  "nbformat_minor": 0
}